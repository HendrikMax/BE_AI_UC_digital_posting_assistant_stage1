{
 "cells": [
  {
   "cell_type": "markdown",
   "id": "9dff9436",
   "metadata": {},
   "source": [
    "# Verarbeitungsfunktionen aus Modul B\n",
    "Dieses Notebook enthält die Implementierung der Verarbeitungsfunktionen aus Modul B als Klassenobjekte."
   ]
  },
  {
   "cell_type": "code",
   "execution_count": null,
   "id": "3819eb73",
   "metadata": {},
   "outputs": [],
   "source": [
    "class B0:\n",
    "    def setup(self):\n",
    "        \"\"\"Setup und Konfiguration für Modul B\"\"\"\n",
    "        print('Setup für Modul B abgeschlossen.')\n",
    "\n",
    "class B1:\n",
    "    def get_booking_info(self):\n",
    "        \"\"\"Eingabe der Buchungsinformationen\"\"\"\n",
    "        print('Buchungsinformationen eingeholt.')\n",
    "\n",
    "class B2:\n",
    "    def retrieve_assignments(self):\n",
    "        \"\"\"Abrufen relevanter Kontierungsinformationen\"\"\"\n",
    "        print('Relevante Kontierungsinformationen abgerufen.')\n",
    "\n",
    "class B3:\n",
    "    def create_assignments(self):\n",
    "        \"\"\"Erstellen relevanter Kontierungszuweisungen\"\"\"\n",
    "        print('Relevante Kontierungszuweisungen erstellt.')\n",
    "\n",
    "class B4:\n",
    "    def output_assignments(self):\n",
    "        \"\"\"Ausgabe der Kontierungszuweisungen\"\"\"\n",
    "        print('Kontierungszuweisungen ausgegeben.')"
   ]
  },
  {
   "cell_type": "code",
   "execution_count": null,
   "id": "30697ecb",
   "metadata": {},
   "outputs": [],
   "source": [
    "# Beispiel: Instanziierung und Nutzung der Klassen\n",
    "if __name__ == \"__main__\":\n",
    "    # Beispiel-Daten\n",
    "    data = 16\n",
    "\n",
    "    # Instanziierung der Klassen\n",
    "    b0 = B0()\n",
    "    b1 = B1()\n",
    "    b2 = B2()\n",
    "    b3 = B3()\n",
    "    b4 = B4()\n",
    "\n",
    "    # Nutzung der Methoden\n",
    "    b0.setup()\n",
    "    b1.get_booking_info()\n",
    "    b2.retrieve_assignments()\n",
    "    b3.create_assignments()\n",
    "    b4.output_assignments()"
   ]
  }
 ],
 "metadata": {
  "language_info": {
   "name": "python"
  }
 },
 "nbformat": 4,
 "nbformat_minor": 5
}
